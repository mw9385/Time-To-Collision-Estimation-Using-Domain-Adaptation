{
 "cells": [
  {
   "cell_type": "code",
   "execution_count": 1,
   "metadata": {},
   "outputs": [
    {
     "name": "stderr",
     "output_type": "stream",
     "text": [
      "Using TensorFlow backend.\n"
     ]
    }
   ],
   "source": [
    "import warnings\n",
    "warnings.simplefilter(action='ignore', category=FutureWarning)\n",
    "import tensorflow as tf\n",
    "from tensorflow import Session, Graph\n",
    "from keras.layers.convolutional import Conv2D\n",
    "from keras.layers import Input, Dense, Flatten, Lambda, add\n",
    "from keras.optimizers import RMSprop, Adam\n",
    "from keras.models import Sequential ,load_model, Model, model_from_json\n",
    "from keras.backend.tensorflow_backend import set_session\n",
    "from keras.models import model_from_json\n",
    "from keras.utils import to_categorical\n",
    "from keras.utils.training_utils import multi_gpu_model\n",
    "from keras import backend as K\n",
    "\n",
    "from skimage.color import rgb2gray\n",
    "from collections import deque\n",
    "from skimage.transform import resize\n",
    "from PIL import Image as iimage\n",
    "from models.cnn_model_LSTM_many_to_one import cnn_lstm\n",
    "from matplotlib import style, gridspec                              \n",
    "\n",
    "import matplotlib.pyplot as plt\n",
    "import rospy\n",
    "import scipy.misc\n",
    "import numpy as np\n",
    "import time\n",
    "import random\n",
    "import pickle\n",
    "# import cv2\n",
    "import copy"
   ]
  },
  {
   "cell_type": "code",
   "execution_count": 2,
   "metadata": {},
   "outputs": [],
   "source": [
    "def getModel(img_width, img_height, img_channel, num_frames, output_dim,num_actions, model_path):\n",
    "    model = cnn_lstm(img_width, img_height, img_channel, num_frames, output_dim, num_actions)\n",
    "    \n",
    "    if model_path:\n",
    "        try:\n",
    "            model.load_weights(model_path)\n",
    "            print(\"Loaded model from {}\".format(model_path))\n",
    "        \n",
    "        except:\n",
    "            print(\"Impossible to find weight path. Train new model.\")\n",
    "    return model"
   ]
  },
  {
   "cell_type": "code",
   "execution_count": null,
   "metadata": {
    "scrolled": true
   },
   "outputs": [],
   "source": [
    "# load model trained with multi_gpus\n",
    "time_to_collision = getModel(128, 128, 3, 6, 1,8, 'None')\n",
    "time_to_collision_multi = multi_gpu_model(time_to_collision, gpus=2)\n",
    "time_to_collision_multi.load_weights('./cnn_saved_models/GAN_model/ConvLSTM_V1.h5')"
   ]
  },
  {
   "cell_type": "code",
   "execution_count": null,
   "metadata": {},
   "outputs": [],
   "source": [
    "# model for single\n",
    "time_to_collision.save_weights('./cnn_saved_models/LSTM_models_real_data/ConvLSTM_V2_single.h5')"
   ]
  },
  {
   "cell_type": "code",
   "execution_count": null,
   "metadata": {},
   "outputs": [],
   "source": []
  },
  {
   "cell_type": "code",
   "execution_count": null,
   "metadata": {},
   "outputs": [],
   "source": [
    "class TestAgent:\n",
    "    def __init__(self, action_size):\n",
    "        self.state_size = (128, 160 , 6)\n",
    "        self.action_size = action_size\n",
    "        self.model = multi_gpu_model(self.build_model(), gpus = 2)\n",
    "        \" Erase the config and tf.initializer when you load another model by keras!!!\"\n",
    "\n",
    "    def build_model(self):\n",
    "        input = Input(shape=self.state_size)\n",
    "        h1 = Conv2D(32, (8, 8), strides = (8,8), activation = \"relu\", name = \"conv1\")(input)\n",
    "        h2 = Conv2D(64, (4, 4), strides = (2,2), activation = \"relu\", name = \"conv2\")(h1)\n",
    "        h3 = Conv2D(64, (3, 3), strides = (1,1), activation = \"relu\", name = \"conv3\")(h2)\n",
    "        context = Flatten(name = \"flatten\")(h3)\n",
    "        \n",
    "        value_hidden = Dense(512, activation = 'relu', name = 'value_fc')(context)\n",
    "        value = Dense(1, name = \"value\")(value_hidden)\n",
    "        action_hidden = Dense(512, activation = 'relu', name = 'action_fc')(context)\n",
    "        action = Dense(self.action_size, name = \"action\")(action_hidden)\n",
    "        action_mean = Lambda(lambda x: tf.reduce_mean(x, axis = 1, keepdims = True), name = 'action_mean')(action) \n",
    "        output = Lambda(lambda x: x[0] + x[1] - x[2], name = 'output')([action, value, action_mean])\n",
    "        model = Model(inputs = input, outputs = output)\n",
    "        model.summary()\n",
    "        \n",
    "        return model \n",
    "      \n",
    "    \n",
    "    def get_action(self, history):\n",
    "        flag = False\n",
    "        if np.random.random() < 0.001:\n",
    "            flag = True\n",
    "            return random.randrange(8), flag \n",
    "        history = np.float32(history)\n",
    "        q_value = self.model.predict(history)\n",
    "        return np.argmax(q_value[0]), flag\n",
    "\n",
    "    def load_model(self, filename):\n",
    "        self.model.load_weights(filename)"
   ]
  },
  {
   "cell_type": "code",
   "execution_count": null,
   "metadata": {},
   "outputs": [],
   "source": [
    "# Intial hovering for 2 seconds and collecting the data from the laser and camera\n",
    "# Receivng the data from laser and camera\n",
    "# checking the crash using crash_check function and if crash occurs, the simulation is reset\n",
    "if __name__ == '__main__':\n",
    "    # Check the gazebo connection    \n",
    "    # Parameter setting for the simulation\n",
    "    agent = TestAgent(action_size = 8)  ## class name should be different from the original one\n",
    "    agent.load_model(\"/home/asl/machine_learning/project/Collision_Avoidance_depth_V5/save_model/D3QN_CP_V_1.h5\")"
   ]
  },
  {
   "cell_type": "code",
   "execution_count": null,
   "metadata": {},
   "outputs": [],
   "source": []
  },
  {
   "cell_type": "code",
   "execution_count": null,
   "metadata": {},
   "outputs": [],
   "source": []
  },
  {
   "cell_type": "code",
   "execution_count": null,
   "metadata": {},
   "outputs": [],
   "source": []
  },
  {
   "cell_type": "code",
   "execution_count": null,
   "metadata": {},
   "outputs": [],
   "source": []
  }
 ],
 "metadata": {
  "kernelspec": {
   "display_name": "Python 3",
   "language": "python",
   "name": "python3"
  },
  "language_info": {
   "codemirror_mode": {
    "name": "ipython",
    "version": 3
   },
   "file_extension": ".py",
   "mimetype": "text/x-python",
   "name": "python",
   "nbconvert_exporter": "python",
   "pygments_lexer": "ipython3",
   "version": "3.5.2"
  }
 },
 "nbformat": 4,
 "nbformat_minor": 2
}
