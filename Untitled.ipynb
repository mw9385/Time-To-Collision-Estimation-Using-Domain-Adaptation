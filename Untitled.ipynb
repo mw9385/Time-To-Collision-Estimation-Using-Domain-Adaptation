{
 "cells": [
  {
   "cell_type": "code",
   "execution_count": null,
   "metadata": {},
   "outputs": [],
   "source": [
    "import numpy as np\n",
    "import cv2\n",
    "import sys\n",
    "import os\n",
    "import matplotlib.pyplot as plt"
   ]
  },
  {
   "cell_type": "code",
   "execution_count": null,
   "metadata": {},
   "outputs": [],
   "source": [
    "# check the number of images\n",
    "image_files = os.listdir('./training_data/test_image')\n",
    "print(len(image_files))"
   ]
  },
  {
   "cell_type": "code",
   "execution_count": null,
   "metadata": {},
   "outputs": [],
   "source": [
    "# load the collision index\n",
    "collision_index = np.load('./training_data/episode_index.npy')\n",
    "print('The length of the collision index is:{}'.format(len(collision_index)))\n",
    "print(collision_index)"
   ]
  },
  {
   "cell_type": "code",
   "execution_count": null,
   "metadata": {},
   "outputs": [],
   "source": [
    "# compute the time to collision\n",
    "start_index = 0\n",
    "temp_len_images = []\n",
    "init_time = []\n",
    "num_frames = 0.2\n",
    "\n",
    "for i in range(199): \n",
    "    temp_n = collision_index[i+1] - collision_index[i]\n",
    "    temp_len_images.append(temp_n)\n",
    "    temp_n = temp_n * num_frames - 0.2\n",
    "    init_time.append(temp_n)\n",
    "\n",
    "print(temp_len_images)    "
   ]
  },
  {
   "cell_type": "code",
   "execution_count": null,
   "metadata": {},
   "outputs": [],
   "source": [
    "def cal_time_to_coll(image_index, num_images, num_frames):\n",
    "    # load images from the dataroot directory\n",
    "    _image_buffer = []\n",
    "    for i in range(num_images):\n",
    "        _image_buffer.append(cv2.imread('./training_data/transfered_images/' + str(image_index+i) + '_B_fake.png'))\n",
    "    \n",
    "    \"\"\"\n",
    "    Missing data in the mid of images\n",
    "    \"\"\"         \n",
    "    \n",
    "    # divide the image in the form of [num_samples, num_frames, image_size]\n",
    "    image_buffer = []\n",
    "    t2c_buffer = []\n",
    "    \n",
    "    if num_images <= 6:                \n",
    "        image_buffer = None\n",
    "        t2c_buffer = None\n",
    "    else:\n",
    "        for j in range(num_images - num_frames):\n",
    "            image_buffer.append(_image_buffer[j:j+6])\n",
    "            t2c_buffer.append(num_images * 0.2 - 0.2*6 - j*0.2)    \n",
    "    \n",
    "    print(np.shape(image_buffer))\n",
    "    return image_buffer, t2c_buffer"
   ]
  },
  {
   "cell_type": "code",
   "execution_count": null,
   "metadata": {},
   "outputs": [],
   "source": [
    "image_index = 0\n",
    "image_buffer = []\n",
    "for i in range(10):\n",
    "    [temp_image_buffer, temp_t2c_buffer] = cal_time_to_coll(image_index, temp_len_images[i], num_frames=6)\n",
    "    image_index = image_index + temp_len_images[i]\n",
    "    image_buffer.append(temp_image_buffer)"
   ]
  }
 ],
 "metadata": {
  "kernelspec": {
   "display_name": "Python 3",
   "language": "python",
   "name": "python3"
  },
  "language_info": {
   "codemirror_mode": {
    "name": "ipython",
    "version": 3
   },
   "file_extension": ".py",
   "mimetype": "text/x-python",
   "name": "python",
   "nbconvert_exporter": "python",
   "pygments_lexer": "ipython3",
   "version": "3.7.0"
  }
 },
 "nbformat": 4,
 "nbformat_minor": 4
}
