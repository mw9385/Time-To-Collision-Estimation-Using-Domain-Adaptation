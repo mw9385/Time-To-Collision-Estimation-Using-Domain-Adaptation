{
 "cells": [
  {
   "cell_type": "code",
   "execution_count": null,
   "metadata": {},
   "outputs": [],
   "source": [
    "import pyzed.sl as sl\n",
    "\n",
    "\n",
    "def main():\n",
    "    # Create a Camera object\n",
    "    zed = sl.Camera()\n",
    "\n",
    "    # Create a InitParameters object and set configuration parameters\n",
    "    init_params = sl.InitParameters()\n",
    "    init_params.sdk_verbose = False\n",
    "\n",
    "    # Open the camera\n",
    "    err = zed.open(init_params)\n",
    "    if err != sl.ERROR_CODE.SUCCESS:\n",
    "        exit(1)\n",
    "\n",
    "    # Get camera information (ZED serial number)\n",
    "    zed_serial = zed.get_camera_information().serial_number\n",
    "    print(zed_serial)\n",
    "    print(\"Hello! This is my serial number: {0}\".format(zed_serial))\n",
    "\n",
    "    # Close the camera\n",
    "    zed.close()"
   ]
  },
  {
   "cell_type": "code",
   "execution_count": null,
   "metadata": {},
   "outputs": [],
   "source": [
    "if __name__ == \"__main__\":\n",
    "    main()"
   ]
  },
  {
   "cell_type": "code",
   "execution_count": null,
   "metadata": {},
   "outputs": [],
   "source": []
  }
 ],
 "metadata": {
  "kernelspec": {
   "display_name": "Python 3",
   "language": "python",
   "name": "python3"
  },
  "language_info": {
   "codemirror_mode": {
    "name": "ipython",
    "version": 3
   },
   "file_extension": ".py",
   "mimetype": "text/x-python",
   "name": "python",
   "nbconvert_exporter": "python",
   "pygments_lexer": "ipython3",
   "version": "3.5.2"
  }
 },
 "nbformat": 4,
 "nbformat_minor": 2
}
